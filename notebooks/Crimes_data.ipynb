{
 "cells": [
  {
   "cell_type": "code",
   "execution_count": 86,
   "id": "c4525aa8-2db9-43e1-a5c7-2ef4ac942654",
   "metadata": {},
   "outputs": [],
   "source": [
    "import pandas as pd\n",
    "import numpy as np\n",
    "import regex as re\n",
    "import pgeocode"
   ]
  },
  {
   "cell_type": "code",
   "execution_count": 228,
   "id": "0efd4552-9a69-4de7-88e4-4ee979477680",
   "metadata": {},
   "outputs": [],
   "source": [
    "df_crimes = pd.read_csv('../data/Major_Crime_Indicators.csv')"
   ]
  },
  {
   "cell_type": "code",
   "execution_count": 229,
   "id": "9bebdd8b-8939-4b4a-a19e-d25a7bcf76bb",
   "metadata": {},
   "outputs": [
    {
     "data": {
      "text/plain": [
       "Index(['X', 'Y', 'Index_', 'event_unique_id', 'Division', 'occurrencedate',\n",
       "       'reporteddate', 'location_type', 'premises_type', 'ucr_code', 'ucr_ext',\n",
       "       'offence', 'reportedyear', 'reportedmonth', 'reportedday',\n",
       "       'reporteddayofyear', 'reporteddayofweek', 'reportedhour',\n",
       "       'occurrenceyear', 'occurrencemonth', 'occurrenceday',\n",
       "       'occurrencedayofyear', 'occurrencedayofweek', 'occurrencehour',\n",
       "       'mci_category', 'Hood_ID', 'Neighbourhood', 'Longitude', 'Latitude',\n",
       "       'ObjectId'],\n",
       "      dtype='object')"
      ]
     },
     "execution_count": 229,
     "metadata": {},
     "output_type": "execute_result"
    }
   ],
   "source": [
    "df_crimes.columns"
   ]
  },
  {
   "cell_type": "code",
   "execution_count": 230,
   "id": "448761bb-e95a-4a2f-80a6-9ad244e00f9e",
   "metadata": {},
   "outputs": [],
   "source": [
    "df_crimes = df_crimes[df_crimes['reportedyear'] == 2022].loc[:,['reportedyear','mci_category','Neighbourhood','Longitude','Latitude']]"
   ]
  },
  {
   "cell_type": "code",
   "execution_count": 232,
   "id": "2cf7fe3f-7f49-4524-a1a7-ee4ed1a50b45",
   "metadata": {},
   "outputs": [
    {
     "data": {
      "text/html": [
       "<div>\n",
       "<style scoped>\n",
       "    .dataframe tbody tr th:only-of-type {\n",
       "        vertical-align: middle;\n",
       "    }\n",
       "\n",
       "    .dataframe tbody tr th {\n",
       "        vertical-align: top;\n",
       "    }\n",
       "\n",
       "    .dataframe thead th {\n",
       "        text-align: right;\n",
       "    }\n",
       "</style>\n",
       "<table border=\"1\" class=\"dataframe\">\n",
       "  <thead>\n",
       "    <tr style=\"text-align: right;\">\n",
       "      <th></th>\n",
       "      <th>reportedyear</th>\n",
       "      <th>mci_category</th>\n",
       "      <th>Neighbourhood</th>\n",
       "      <th>Longitude</th>\n",
       "      <th>Latitude</th>\n",
       "    </tr>\n",
       "  </thead>\n",
       "  <tbody>\n",
       "    <tr>\n",
       "      <th>281229</th>\n",
       "      <td>2022</td>\n",
       "      <td>Assault</td>\n",
       "      <td>Cliffcrest</td>\n",
       "      <td>-79.248474</td>\n",
       "      <td>43.711942</td>\n",
       "    </tr>\n",
       "    <tr>\n",
       "      <th>281230</th>\n",
       "      <td>2022</td>\n",
       "      <td>Auto Theft</td>\n",
       "      <td>South Riverdale</td>\n",
       "      <td>-79.337664</td>\n",
       "      <td>43.661598</td>\n",
       "    </tr>\n",
       "    <tr>\n",
       "      <th>281232</th>\n",
       "      <td>2022</td>\n",
       "      <td>Assault</td>\n",
       "      <td>Weston</td>\n",
       "      <td>-79.517752</td>\n",
       "      <td>43.700603</td>\n",
       "    </tr>\n",
       "    <tr>\n",
       "      <th>281233</th>\n",
       "      <td>2022</td>\n",
       "      <td>Auto Theft</td>\n",
       "      <td>Pleasant View</td>\n",
       "      <td>-79.339195</td>\n",
       "      <td>43.788932</td>\n",
       "    </tr>\n",
       "    <tr>\n",
       "      <th>281238</th>\n",
       "      <td>2022</td>\n",
       "      <td>Auto Theft</td>\n",
       "      <td>Markland Wood</td>\n",
       "      <td>-79.561255</td>\n",
       "      <td>43.634356</td>\n",
       "    </tr>\n",
       "  </tbody>\n",
       "</table>\n",
       "</div>"
      ],
      "text/plain": [
       "        reportedyear mci_category    Neighbourhood  Longitude   Latitude\n",
       "281229          2022      Assault       Cliffcrest -79.248474  43.711942\n",
       "281230          2022   Auto Theft  South Riverdale -79.337664  43.661598\n",
       "281232          2022      Assault           Weston -79.517752  43.700603\n",
       "281233          2022   Auto Theft    Pleasant View -79.339195  43.788932\n",
       "281238          2022   Auto Theft    Markland Wood -79.561255  43.634356"
      ]
     },
     "execution_count": 232,
     "metadata": {},
     "output_type": "execute_result"
    }
   ],
   "source": [
    "df_crimes.head()"
   ]
  },
  {
   "cell_type": "code",
   "execution_count": 243,
   "id": "8ac022c7-566d-4424-9ecf-e6c82dbbdfed",
   "metadata": {},
   "outputs": [],
   "source": [
    "df_loc = df_crimes.pivot_table(\n",
    "                      index = ['Neighbourhood'],\n",
    "                      values = ['Latitude','Longitude'],\n",
    "                      aggfunc = np.mean)"
   ]
  },
  {
   "cell_type": "code",
   "execution_count": 245,
   "id": "9634fd7e-4807-4e36-aadf-ee3e330d79d1",
   "metadata": {},
   "outputs": [],
   "source": [
    "df_crime_count = df_crimes.pivot_table(\n",
    "                      index = ['Neighbourhood'],\n",
    "                      values = ['mci_category'],\n",
    "                      aggfunc = 'count')"
   ]
  },
  {
   "cell_type": "code",
   "execution_count": 247,
   "id": "b7245c11-7df8-4f40-bb97-a9593b61f229",
   "metadata": {},
   "outputs": [],
   "source": [
    "df_crimes_final = pd.merge(df_loc, df_crime_count, \n",
    "                           on = \"Neighbourhood\",\n",
    "                           how = \"inner\")"
   ]
  },
  {
   "cell_type": "code",
   "execution_count": 250,
   "id": "0fe479d8-d940-42a0-867a-43ba3d9117fa",
   "metadata": {},
   "outputs": [
    {
     "data": {
      "text/plain": [
       "(141, 3)"
      ]
     },
     "execution_count": 250,
     "metadata": {},
     "output_type": "execute_result"
    }
   ],
   "source": [
    "df_crimes_final.shape"
   ]
  },
  {
   "cell_type": "code",
   "execution_count": null,
   "id": "090ef39f-73cc-486a-8128-75fe6819a04d",
   "metadata": {},
   "outputs": [],
   "source": []
  }
 ],
 "metadata": {
  "kernelspec": {
   "display_name": "Python 3 (ipykernel)",
   "language": "python",
   "name": "python3"
  },
  "language_info": {
   "codemirror_mode": {
    "name": "ipython",
    "version": 3
   },
   "file_extension": ".py",
   "mimetype": "text/x-python",
   "name": "python",
   "nbconvert_exporter": "python",
   "pygments_lexer": "ipython3",
   "version": "3.9.16"
  }
 },
 "nbformat": 4,
 "nbformat_minor": 5
}
