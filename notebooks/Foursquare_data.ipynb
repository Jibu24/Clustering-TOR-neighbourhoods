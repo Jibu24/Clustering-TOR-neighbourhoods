{
 "cells": [
  {
   "cell_type": "code",
   "execution_count": 1,
   "id": "f392fc5e-bb4f-44e9-be24-656eafbfd049",
   "metadata": {},
   "outputs": [],
   "source": [
    "import pandas as pd\n",
    "import numpy as np\n",
    "import seaborn as sns\n",
    "import matplotlib.pyplot as plt\n",
    "import json\n",
    "import requests\n",
    "from pandas.io.json import json_normalize\n",
    "from sklearn.cluster import KMeans\n",
    "import folium"
   ]
  },
  {
   "cell_type": "code",
   "execution_count": 2,
   "id": "a6cd4c4e-8895-41a5-8611-91769c64a1ab",
   "metadata": {},
   "outputs": [],
   "source": [
    "df = pd.read_csv(\"../data/Geospatial_Coordinates.csv\")"
   ]
  },
  {
   "cell_type": "code",
   "execution_count": 3,
   "id": "427e4372-d8cd-4a53-9bd9-be3020f3260a",
   "metadata": {},
   "outputs": [
    {
     "data": {
      "text/plain": [
       "(103, 3)"
      ]
     },
     "execution_count": 3,
     "metadata": {},
     "output_type": "execute_result"
    }
   ],
   "source": [
    "df.shape"
   ]
  },
  {
   "cell_type": "code",
   "execution_count": 4,
   "id": "c0e61052-1d87-426a-8077-3a489e3b4280",
   "metadata": {},
   "outputs": [],
   "source": [
    "import os\n",
    "api_key = os.environ[\"FOURSQUARE_API_KEY\"]\n",
    "#YELP_api_key = os.environ[\"YELP_API_KEY\"]"
   ]
  },
  {
   "cell_type": "code",
   "execution_count": 166,
   "id": "ecec73bf-4caa-49e5-be44-19bba924466e",
   "metadata": {},
   "outputs": [
    {
     "data": {
      "text/plain": [
       "103"
      ]
     },
     "execution_count": 166,
     "metadata": {},
     "output_type": "execute_result"
    }
   ],
   "source": [
    "df.Latitude.nunique()"
   ]
  },
  {
   "cell_type": "code",
   "execution_count": 142,
   "id": "fd17ecaf-cdb6-4e2a-805b-9b725dc6b294",
   "metadata": {},
   "outputs": [],
   "source": [
    "def get_POI(latitude,longitude):\n",
    "    \n",
    "    url = \"https://api.foursquare.com/v3/places/search?fields=name,location,categories,rating,popularity,price\"\n",
    "    \n",
    "    headers = {\"Accept\": \"application/json\"}\n",
    "    headers['Authorization'] = api_key\n",
    "    \n",
    "    location = [latitude,longitude]\n",
    "    location_str = [str(x) for x in location]\n",
    "    location_join = ','.join(location_str)\n",
    "    \n",
    "    params_dict = {\n",
    "                   \"query\" : \"Food\",\n",
    "                   \"ll\" : location_join,\n",
    "                   #\"categories\" : \n",
    "                   \"radius\" : \"2000\",\n",
    "                   \"limit\" : \"50\"\n",
    "    }\n",
    "    \n",
    "    response = requests.get(url, params_dict, headers=headers)\n",
    "    \n",
    "    if response.status_code == 200:\n",
    "        return response.json()\n",
    "    else:\n",
    "        print(f'Error {response.status_code}')\n",
    "    "
   ]
  },
  {
   "cell_type": "code",
   "execution_count": 114,
   "id": "a867d06f-bea6-4058-a64a-62d8496bbaff",
   "metadata": {},
   "outputs": [],
   "source": [
    "Restaurant_data = df.apply(\n",
    "                            lambda row: get_POI(row['Latitude'], row['Longitude']),\n",
    "                            axis=1)"
   ]
  },
  {
   "cell_type": "code",
   "execution_count": 155,
   "id": "afb6da2a-c4ba-4b3b-8af2-0c8515d39033",
   "metadata": {},
   "outputs": [
    {
     "data": {
      "text/plain": [
       "{'categories': [{'id': 13145,\n",
       "   'name': 'Fast Food Restaurant',\n",
       "   'icon': {'prefix': 'https://ss3.4sqi.net/img/categories_v2/food/fastfood_',\n",
       "    'suffix': '.png'}}],\n",
       " 'location': {'address': '8129 Sheppard Ave E',\n",
       "  'country': 'CA',\n",
       "  'cross_street': '',\n",
       "  'formatted_address': '8129 Sheppard Ave E, Scarborough ON M1B 6A3',\n",
       "  'locality': 'Scarborough',\n",
       "  'postcode': 'M1B 6A3',\n",
       "  'region': 'ON'},\n",
       " 'name': \"Wendy's\",\n",
       " 'popularity': 0.9958471041132856,\n",
       " 'price': 1,\n",
       " 'rating': 6.2}"
      ]
     },
     "execution_count": 155,
     "metadata": {},
     "output_type": "execute_result"
    }
   ],
   "source": [
    "Restaurant_data[0]['results'][1]"
   ]
  },
  {
   "cell_type": "code",
   "execution_count": 116,
   "id": "cea6cec1-47b6-4e08-9cac-ec1995296f6f",
   "metadata": {},
   "outputs": [],
   "source": [
    "fs_rest_api=[]\n",
    "def restaurant_POI(data):\n",
    "    for row in data:\n",
    "        for val in row['results']:\n",
    "            try:\n",
    "                fs_rest_api.append(\n",
    "                                [\n",
    "                                   val['name'],\n",
    "                                   val['categories'][0]['name'],\n",
    "                                   val['location']['postcode'],\n",
    "                                   val['popularity'],\n",
    "                                   val['rating'],\n",
    "                                   val['price']\n",
    "                                ]\n",
    "                                    )\n",
    "            except KeyError:\n",
    "                continue\n",
    "    "
   ]
  },
  {
   "cell_type": "code",
   "execution_count": 117,
   "id": "a597293a-9c65-4eed-b8fe-41aba3f1aafc",
   "metadata": {},
   "outputs": [],
   "source": [
    "restaurant_POI(Restaurant_data)"
   ]
  },
  {
   "cell_type": "code",
   "execution_count": 130,
   "id": "5fc5aa8d-8e33-49a0-87b1-3ad79adf1481",
   "metadata": {},
   "outputs": [],
   "source": [
    "df_restaurants = pd.DataFrame(fs_rest_api, columns= ['name','category', 'Postal_code','popularity', 'rating','price'])"
   ]
  },
  {
   "cell_type": "code",
   "execution_count": 139,
   "id": "8f54d0c4-58d6-4a20-9c95-213926bd36a9",
   "metadata": {},
   "outputs": [
    {
     "data": {
      "text/html": [
       "<div>\n",
       "<style scoped>\n",
       "    .dataframe tbody tr th:only-of-type {\n",
       "        vertical-align: middle;\n",
       "    }\n",
       "\n",
       "    .dataframe tbody tr th {\n",
       "        vertical-align: top;\n",
       "    }\n",
       "\n",
       "    .dataframe thead th {\n",
       "        text-align: right;\n",
       "    }\n",
       "</style>\n",
       "<table border=\"1\" class=\"dataframe\">\n",
       "  <thead>\n",
       "    <tr style=\"text-align: right;\">\n",
       "      <th></th>\n",
       "      <th>name</th>\n",
       "      <th>category</th>\n",
       "      <th>Postal_code</th>\n",
       "      <th>popularity</th>\n",
       "      <th>rating</th>\n",
       "      <th>price</th>\n",
       "    </tr>\n",
       "  </thead>\n",
       "  <tbody>\n",
       "  </tbody>\n",
       "</table>\n",
       "</div>"
      ],
      "text/plain": [
       "Empty DataFrame\n",
       "Columns: [name, category, Postal_code, popularity, rating, price]\n",
       "Index: []"
      ]
     },
     "execution_count": 139,
     "metadata": {},
     "output_type": "execute_result"
    }
   ],
   "source": [
    "df_restaurants[df_restaurants['name'] == \"Bella's Lechon\"]"
   ]
  },
  {
   "cell_type": "code",
   "execution_count": 132,
   "id": "5f897288-beb7-46f8-a015-6a9b08bfca09",
   "metadata": {},
   "outputs": [],
   "source": [
    "df_restaurants['Postal_code'] = df_restaurants['Postal_code'].apply(lambda x: x[:3])"
   ]
  },
  {
   "cell_type": "code",
   "execution_count": 140,
   "id": "e842bd47-49ea-43d8-a2c4-377c7ad3a636",
   "metadata": {},
   "outputs": [
    {
     "data": {
      "text/html": [
       "<div>\n",
       "<style scoped>\n",
       "    .dataframe tbody tr th:only-of-type {\n",
       "        vertical-align: middle;\n",
       "    }\n",
       "\n",
       "    .dataframe tbody tr th {\n",
       "        vertical-align: top;\n",
       "    }\n",
       "\n",
       "    .dataframe thead th {\n",
       "        text-align: right;\n",
       "    }\n",
       "</style>\n",
       "<table border=\"1\" class=\"dataframe\">\n",
       "  <thead>\n",
       "    <tr style=\"text-align: right;\">\n",
       "      <th></th>\n",
       "      <th>name</th>\n",
       "      <th>category</th>\n",
       "      <th>Postal_code</th>\n",
       "      <th>popularity</th>\n",
       "      <th>rating</th>\n",
       "      <th>price</th>\n",
       "    </tr>\n",
       "  </thead>\n",
       "  <tbody>\n",
       "    <tr>\n",
       "      <th>0</th>\n",
       "      <td>Subway</td>\n",
       "      <td>Deli</td>\n",
       "      <td>M1B</td>\n",
       "      <td>0.860107</td>\n",
       "      <td>6.4</td>\n",
       "      <td>1</td>\n",
       "    </tr>\n",
       "    <tr>\n",
       "      <th>1</th>\n",
       "      <td>Wendy's</td>\n",
       "      <td>Fast Food Restaurant</td>\n",
       "      <td>M1B</td>\n",
       "      <td>0.995847</td>\n",
       "      <td>6.2</td>\n",
       "      <td>1</td>\n",
       "    </tr>\n",
       "    <tr>\n",
       "      <th>2</th>\n",
       "      <td>Harvey's</td>\n",
       "      <td>Fast Food Restaurant</td>\n",
       "      <td>M1B</td>\n",
       "      <td>0.982336</td>\n",
       "      <td>6.3</td>\n",
       "      <td>2</td>\n",
       "    </tr>\n",
       "    <tr>\n",
       "      <th>3</th>\n",
       "      <td>Caribbean Wave</td>\n",
       "      <td>American Restaurant</td>\n",
       "      <td>M1B</td>\n",
       "      <td>0.988098</td>\n",
       "      <td>6.4</td>\n",
       "      <td>1</td>\n",
       "    </tr>\n",
       "    <tr>\n",
       "      <th>4</th>\n",
       "      <td>Swiss Chalet Rotisserie &amp; Grill</td>\n",
       "      <td>Restaurant</td>\n",
       "      <td>M1B</td>\n",
       "      <td>0.948866</td>\n",
       "      <td>5.2</td>\n",
       "      <td>2</td>\n",
       "    </tr>\n",
       "  </tbody>\n",
       "</table>\n",
       "</div>"
      ],
      "text/plain": [
       "                              name              category Postal_code  \\\n",
       "0                           Subway                  Deli         M1B   \n",
       "1                          Wendy's  Fast Food Restaurant         M1B   \n",
       "2                         Harvey's  Fast Food Restaurant         M1B   \n",
       "3                   Caribbean Wave   American Restaurant         M1B   \n",
       "4  Swiss Chalet Rotisserie & Grill            Restaurant         M1B   \n",
       "\n",
       "   popularity  rating  price  \n",
       "0    0.860107     6.4      1  \n",
       "1    0.995847     6.2      1  \n",
       "2    0.982336     6.3      2  \n",
       "3    0.988098     6.4      1  \n",
       "4    0.948866     5.2      2  "
      ]
     },
     "execution_count": 140,
     "metadata": {},
     "output_type": "execute_result"
    }
   ],
   "source": [
    "df_restaurants.head()"
   ]
  },
  {
   "cell_type": "code",
   "execution_count": 143,
   "id": "bb8049cc-c6d2-4367-8585-5df7d8e11b31",
   "metadata": {},
   "outputs": [],
   "source": [
    "def get_transp_POI(latitude,longitude):\n",
    "    \n",
    "    url = \"https://api.foursquare.com/v3/places/search?fields=name,location,categories,rating,popularity,price,features\"\n",
    "    \n",
    "    headers = {\"Accept\": \"application/json\"}\n",
    "    headers['Authorization'] = api_key\n",
    "    \n",
    "    location = [latitude,longitude]\n",
    "    location_str = [str(x) for x in location]\n",
    "    location_join = ','.join(location_str)\n",
    "    \n",
    "    params_dict = {\n",
    "                   \"query\" : \"transportation\",\n",
    "                   \"ll\" : location_join,\n",
    "                   \"categories\" : \"19042,19043\",\n",
    "                   \"radius\" : \"2000\",\n",
    "                   \"limit\" : \"50\"\n",
    "    }\n",
    "    \n",
    "    response = requests.get(url, params_dict, headers=headers)\n",
    "    \n",
    "    if response.status_code == 200:\n",
    "        return response.json()\n",
    "    else:\n",
    "        print(f'Error {response.status_code}')"
   ]
  },
  {
   "cell_type": "code",
   "execution_count": 145,
   "id": "5bf52bee-94bd-4503-9b74-31dd870d39ad",
   "metadata": {},
   "outputs": [],
   "source": [
    "Transportation_data = df.apply(\n",
    "                            lambda row: get_transp_POI(row['Latitude'], row['Longitude']),\n",
    "                            axis=1)"
   ]
  },
  {
   "cell_type": "code",
   "execution_count": 165,
   "id": "8c93672b-2384-45b8-866f-65384ed7da3a",
   "metadata": {},
   "outputs": [
    {
     "data": {
      "text/plain": [
       "43.8066863"
      ]
     },
     "execution_count": 165,
     "metadata": {},
     "output_type": "execute_result"
    }
   ],
   "source": [
    "Transportation_data[0]['context']['geo_bounds']['circle']['center']['latitude']"
   ]
  },
  {
   "cell_type": "code",
   "execution_count": 167,
   "id": "7c2a23a3-c1c1-4063-9601-5573b091a506",
   "metadata": {},
   "outputs": [],
   "source": [
    "fs_trans_api=[]\n",
    "def trans_POI(data):\n",
    "    for row in data:\n",
    "        for val in row['results']:\n",
    "            try:\n",
    "                fs_trans_api.append(\n",
    "                                [\n",
    "                                   val['name'],\n",
    "                                   val['popularity'],\n",
    "                                   row['context']['geo_bounds']['circle']['center']['latitude'],\n",
    "                                ]\n",
    "                                    )\n",
    "            except KeyError:\n",
    "                continue"
   ]
  },
  {
   "cell_type": "code",
   "execution_count": 168,
   "id": "110d3bc9-5e34-46b7-8f87-a3878fb42088",
   "metadata": {},
   "outputs": [],
   "source": [
    "trans_POI(Transportation_data)"
   ]
  },
  {
   "cell_type": "code",
   "execution_count": 170,
   "id": "e04da653-0ef2-40de-b0a8-0c1f88074991",
   "metadata": {},
   "outputs": [],
   "source": [
    "df_transportation=pd.DataFrame(data=fs_trans_api, columns=['name','popularity','latitude'])"
   ]
  },
  {
   "cell_type": "code",
   "execution_count": 176,
   "id": "7795559e-3786-4b5f-9913-4589ef371e35",
   "metadata": {},
   "outputs": [
    {
     "data": {
      "text/html": [
       "<div>\n",
       "<style scoped>\n",
       "    .dataframe tbody tr th:only-of-type {\n",
       "        vertical-align: middle;\n",
       "    }\n",
       "\n",
       "    .dataframe tbody tr th {\n",
       "        vertical-align: top;\n",
       "    }\n",
       "\n",
       "    .dataframe thead th {\n",
       "        text-align: right;\n",
       "    }\n",
       "</style>\n",
       "<table border=\"1\" class=\"dataframe\">\n",
       "  <thead>\n",
       "    <tr style=\"text-align: right;\">\n",
       "      <th></th>\n",
       "      <th>Postal Code</th>\n",
       "      <th>Latitude</th>\n",
       "      <th>Longitude</th>\n",
       "    </tr>\n",
       "  </thead>\n",
       "  <tbody>\n",
       "    <tr>\n",
       "      <th>0</th>\n",
       "      <td>M1B</td>\n",
       "      <td>43.806686</td>\n",
       "      <td>-79.194353</td>\n",
       "    </tr>\n",
       "    <tr>\n",
       "      <th>1</th>\n",
       "      <td>M1C</td>\n",
       "      <td>43.784535</td>\n",
       "      <td>-79.160497</td>\n",
       "    </tr>\n",
       "    <tr>\n",
       "      <th>2</th>\n",
       "      <td>M1E</td>\n",
       "      <td>43.763573</td>\n",
       "      <td>-79.188711</td>\n",
       "    </tr>\n",
       "    <tr>\n",
       "      <th>3</th>\n",
       "      <td>M1G</td>\n",
       "      <td>43.770992</td>\n",
       "      <td>-79.216917</td>\n",
       "    </tr>\n",
       "    <tr>\n",
       "      <th>4</th>\n",
       "      <td>M1H</td>\n",
       "      <td>43.773136</td>\n",
       "      <td>-79.239476</td>\n",
       "    </tr>\n",
       "  </tbody>\n",
       "</table>\n",
       "</div>"
      ],
      "text/plain": [
       "  Postal Code   Latitude  Longitude\n",
       "0         M1B  43.806686 -79.194353\n",
       "1         M1C  43.784535 -79.160497\n",
       "2         M1E  43.763573 -79.188711\n",
       "3         M1G  43.770992 -79.216917\n",
       "4         M1H  43.773136 -79.239476"
      ]
     },
     "execution_count": 176,
     "metadata": {},
     "output_type": "execute_result"
    }
   ],
   "source": [
    "df.head()"
   ]
  },
  {
   "cell_type": "code",
   "execution_count": 177,
   "id": "ce606a2e-fd28-4583-8678-218da6af37e2",
   "metadata": {},
   "outputs": [
    {
     "data": {
      "text/html": [
       "<div>\n",
       "<style scoped>\n",
       "    .dataframe tbody tr th:only-of-type {\n",
       "        vertical-align: middle;\n",
       "    }\n",
       "\n",
       "    .dataframe tbody tr th {\n",
       "        vertical-align: top;\n",
       "    }\n",
       "\n",
       "    .dataframe thead th {\n",
       "        text-align: right;\n",
       "    }\n",
       "</style>\n",
       "<table border=\"1\" class=\"dataframe\">\n",
       "  <thead>\n",
       "    <tr style=\"text-align: right;\">\n",
       "      <th></th>\n",
       "      <th>name</th>\n",
       "      <th>category</th>\n",
       "      <th>Postal_code</th>\n",
       "      <th>popularity</th>\n",
       "      <th>rating</th>\n",
       "      <th>price</th>\n",
       "    </tr>\n",
       "  </thead>\n",
       "  <tbody>\n",
       "    <tr>\n",
       "      <th>0</th>\n",
       "      <td>Subway</td>\n",
       "      <td>Deli</td>\n",
       "      <td>M1B</td>\n",
       "      <td>0.860107</td>\n",
       "      <td>6.4</td>\n",
       "      <td>1</td>\n",
       "    </tr>\n",
       "    <tr>\n",
       "      <th>1</th>\n",
       "      <td>Wendy's</td>\n",
       "      <td>Fast Food Restaurant</td>\n",
       "      <td>M1B</td>\n",
       "      <td>0.995847</td>\n",
       "      <td>6.2</td>\n",
       "      <td>1</td>\n",
       "    </tr>\n",
       "    <tr>\n",
       "      <th>2</th>\n",
       "      <td>Harvey's</td>\n",
       "      <td>Fast Food Restaurant</td>\n",
       "      <td>M1B</td>\n",
       "      <td>0.982336</td>\n",
       "      <td>6.3</td>\n",
       "      <td>2</td>\n",
       "    </tr>\n",
       "    <tr>\n",
       "      <th>3</th>\n",
       "      <td>Caribbean Wave</td>\n",
       "      <td>American Restaurant</td>\n",
       "      <td>M1B</td>\n",
       "      <td>0.988098</td>\n",
       "      <td>6.4</td>\n",
       "      <td>1</td>\n",
       "    </tr>\n",
       "    <tr>\n",
       "      <th>4</th>\n",
       "      <td>Swiss Chalet Rotisserie &amp; Grill</td>\n",
       "      <td>Restaurant</td>\n",
       "      <td>M1B</td>\n",
       "      <td>0.948866</td>\n",
       "      <td>5.2</td>\n",
       "      <td>2</td>\n",
       "    </tr>\n",
       "  </tbody>\n",
       "</table>\n",
       "</div>"
      ],
      "text/plain": [
       "                              name              category Postal_code  \\\n",
       "0                           Subway                  Deli         M1B   \n",
       "1                          Wendy's  Fast Food Restaurant         M1B   \n",
       "2                         Harvey's  Fast Food Restaurant         M1B   \n",
       "3                   Caribbean Wave   American Restaurant         M1B   \n",
       "4  Swiss Chalet Rotisserie & Grill            Restaurant         M1B   \n",
       "\n",
       "   popularity  rating  price  \n",
       "0    0.860107     6.4      1  \n",
       "1    0.995847     6.2      1  \n",
       "2    0.982336     6.3      2  \n",
       "3    0.988098     6.4      1  \n",
       "4    0.948866     5.2      2  "
      ]
     },
     "execution_count": 177,
     "metadata": {},
     "output_type": "execute_result"
    }
   ],
   "source": [
    "df_restaurants.head()"
   ]
  },
  {
   "cell_type": "code",
   "execution_count": 178,
   "id": "3c3e2666-d2b1-4818-bef0-131093a72b21",
   "metadata": {},
   "outputs": [
    {
     "data": {
      "text/html": [
       "<div>\n",
       "<style scoped>\n",
       "    .dataframe tbody tr th:only-of-type {\n",
       "        vertical-align: middle;\n",
       "    }\n",
       "\n",
       "    .dataframe tbody tr th {\n",
       "        vertical-align: top;\n",
       "    }\n",
       "\n",
       "    .dataframe thead th {\n",
       "        text-align: right;\n",
       "    }\n",
       "</style>\n",
       "<table border=\"1\" class=\"dataframe\">\n",
       "  <thead>\n",
       "    <tr style=\"text-align: right;\">\n",
       "      <th></th>\n",
       "      <th>name</th>\n",
       "      <th>popularity</th>\n",
       "      <th>latitude</th>\n",
       "    </tr>\n",
       "  </thead>\n",
       "  <tbody>\n",
       "    <tr>\n",
       "      <th>0</th>\n",
       "      <td>Bus Stop: 85 &amp; 116</td>\n",
       "      <td>0.903790</td>\n",
       "      <td>43.806686</td>\n",
       "    </tr>\n",
       "    <tr>\n",
       "      <th>1</th>\n",
       "      <td>Bus Stop: 116, Cinemart</td>\n",
       "      <td>0.920266</td>\n",
       "      <td>43.806686</td>\n",
       "    </tr>\n",
       "    <tr>\n",
       "      <th>2</th>\n",
       "      <td>Highland Creek Overpass</td>\n",
       "      <td>0.456998</td>\n",
       "      <td>43.806686</td>\n",
       "    </tr>\n",
       "    <tr>\n",
       "      <th>3</th>\n",
       "      <td>Bus stop: 95 Westbound</td>\n",
       "      <td>0.318424</td>\n",
       "      <td>43.784535</td>\n",
       "    </tr>\n",
       "    <tr>\n",
       "      <th>4</th>\n",
       "      <td>Bus Stop: 116</td>\n",
       "      <td>0.332937</td>\n",
       "      <td>43.763573</td>\n",
       "    </tr>\n",
       "  </tbody>\n",
       "</table>\n",
       "</div>"
      ],
      "text/plain": [
       "                      name  popularity   latitude\n",
       "0       Bus Stop: 85 & 116    0.903790  43.806686\n",
       "1  Bus Stop: 116, Cinemart    0.920266  43.806686\n",
       "2  Highland Creek Overpass    0.456998  43.806686\n",
       "3   Bus stop: 95 Westbound    0.318424  43.784535\n",
       "4            Bus Stop: 116    0.332937  43.763573"
      ]
     },
     "execution_count": 178,
     "metadata": {},
     "output_type": "execute_result"
    }
   ],
   "source": [
    "df_transportation.head()"
   ]
  },
  {
   "cell_type": "code",
   "execution_count": 179,
   "id": "6b5bebf4-43ab-4267-a30e-291d431a8c65",
   "metadata": {},
   "outputs": [],
   "source": [
    "def get_venue_POI(latitude,longitude):\n",
    "    \n",
    "    url = \"https://api.foursquare.com/v3/places/search?fields=name,location,categories,rating,popularity,price\"\n",
    "    \n",
    "    headers = {\"Accept\": \"application/json\"}\n",
    "    headers['Authorization'] = api_key\n",
    "    \n",
    "    location = [latitude,longitude]\n",
    "    location_str = [str(x) for x in location]\n",
    "    location_join = ','.join(location_str)\n",
    "    \n",
    "    params_dict = {\n",
    "                   \"ll\" : location_join,\n",
    "                   #\"categories\" : \n",
    "                   \"radius\" : \"2000\",\n",
    "                   \"limit\" : \"50\"\n",
    "    }\n",
    "    \n",
    "    response = requests.get(url, params_dict, headers=headers)\n",
    "    \n",
    "    if response.status_code == 200:\n",
    "        return response.json()\n",
    "    else:\n",
    "        print(f'Error {response.status_code}')"
   ]
  },
  {
   "cell_type": "code",
   "execution_count": 180,
   "id": "fca00d61-7ad2-46f3-921d-d95229e9854c",
   "metadata": {},
   "outputs": [],
   "source": [
    "Venue_data = df.apply(\n",
    "                    lambda row: get_venue_POI(row['Latitude'], row['Longitude']),\n",
    "                    axis=1)"
   ]
  },
  {
   "cell_type": "code",
   "execution_count": 197,
   "id": "e7f197e9-cf98-4347-95d7-0c3ce3117ff5",
   "metadata": {},
   "outputs": [
    {
     "data": {
      "text/plain": [
       "{'id': 17106,\n",
       " 'name': 'Packaging Supply Store',\n",
       " 'icon': {'prefix': 'https://ss3.4sqi.net/img/categories_v2/shops/default_',\n",
       "  'suffix': '.png'}}"
      ]
     },
     "execution_count": 197,
     "metadata": {},
     "output_type": "execute_result"
    }
   ],
   "source": [
    "Venue_data[0]['results'][0]['categories'][0]"
   ]
  },
  {
   "cell_type": "code",
   "execution_count": 204,
   "id": "3ad0e362-c28a-41d2-a7f1-210b2a490b63",
   "metadata": {},
   "outputs": [],
   "source": [
    "fs_venue_api=[]\n",
    "def venue_POI(data):\n",
    "    for row in data:\n",
    "        for val in row['results']:\n",
    "            try:\n",
    "                fs_venue_api.append(\n",
    "                                [\n",
    "                                   val['name'],\n",
    "                                   val['categories'][0]['name'],\n",
    "                                   val['location']['postcode'],\n",
    "                                   val['popularity'],\n",
    "                                ]\n",
    "                                    )\n",
    "            except KeyError:\n",
    "                continue\n",
    "            except IndexError:\n",
    "                continue\n"
   ]
  },
  {
   "cell_type": "code",
   "execution_count": 205,
   "id": "9a048136-8c1b-452d-8d19-dfdc8312e376",
   "metadata": {},
   "outputs": [],
   "source": [
    "venue_POI(Venue_data)"
   ]
  },
  {
   "cell_type": "code",
   "execution_count": 206,
   "id": "27428af1-8abb-4f78-aeee-2e94cf6afc3f",
   "metadata": {},
   "outputs": [],
   "source": [
    "df_venues = pd.DataFrame(fs_venue_api, columns = ['name','category','Postal_code','popularity'])"
   ]
  },
  {
   "cell_type": "code",
   "execution_count": 210,
   "id": "828ae9ce-7bff-4944-9a79-3263d124dfc2",
   "metadata": {},
   "outputs": [],
   "source": [
    "df_venues['Postal_code'] = df_venues['Postal_code'].apply(lambda x: x[:3])"
   ]
  },
  {
   "cell_type": "code",
   "execution_count": 211,
   "id": "5b4ff5b6-76ea-4409-9203-4f5d97c36968",
   "metadata": {},
   "outputs": [
    {
     "data": {
      "text/html": [
       "<div>\n",
       "<style scoped>\n",
       "    .dataframe tbody tr th:only-of-type {\n",
       "        vertical-align: middle;\n",
       "    }\n",
       "\n",
       "    .dataframe tbody tr th {\n",
       "        vertical-align: top;\n",
       "    }\n",
       "\n",
       "    .dataframe thead th {\n",
       "        text-align: right;\n",
       "    }\n",
       "</style>\n",
       "<table border=\"1\" class=\"dataframe\">\n",
       "  <thead>\n",
       "    <tr style=\"text-align: right;\">\n",
       "      <th></th>\n",
       "      <th>name</th>\n",
       "      <th>category</th>\n",
       "      <th>Postal_code</th>\n",
       "      <th>popularity</th>\n",
       "    </tr>\n",
       "  </thead>\n",
       "  <tbody>\n",
       "    <tr>\n",
       "      <th>0</th>\n",
       "      <td>Rex Pak Food Packaging Ltd</td>\n",
       "      <td>Packaging Supply Store</td>\n",
       "      <td>M1B</td>\n",
       "      <td>0.891394</td>\n",
       "    </tr>\n",
       "    <tr>\n",
       "      <th>1</th>\n",
       "      <td>Canadian Appliance Source Whitby</td>\n",
       "      <td>Home Service</td>\n",
       "      <td>L1R</td>\n",
       "      <td>0.917554</td>\n",
       "    </tr>\n",
       "    <tr>\n",
       "      <th>2</th>\n",
       "      <td>The Home Depot</td>\n",
       "      <td>Home Improvement Service</td>\n",
       "      <td>M1B</td>\n",
       "      <td>0.998187</td>\n",
       "    </tr>\n",
       "    <tr>\n",
       "      <th>3</th>\n",
       "      <td>T Hamilton &amp; Son Roofing Inc</td>\n",
       "      <td>Roofer</td>\n",
       "      <td>M1B</td>\n",
       "      <td>0.980982</td>\n",
       "    </tr>\n",
       "    <tr>\n",
       "      <th>4</th>\n",
       "      <td>Subway</td>\n",
       "      <td>Deli</td>\n",
       "      <td>M1B</td>\n",
       "      <td>0.859652</td>\n",
       "    </tr>\n",
       "  </tbody>\n",
       "</table>\n",
       "</div>"
      ],
      "text/plain": [
       "                               name                  category Postal_code  \\\n",
       "0        Rex Pak Food Packaging Ltd    Packaging Supply Store         M1B   \n",
       "1  Canadian Appliance Source Whitby              Home Service         L1R   \n",
       "2                    The Home Depot  Home Improvement Service         M1B   \n",
       "3      T Hamilton & Son Roofing Inc                    Roofer         M1B   \n",
       "4                            Subway                      Deli         M1B   \n",
       "\n",
       "   popularity  \n",
       "0    0.891394  \n",
       "1    0.917554  \n",
       "2    0.998187  \n",
       "3    0.980982  \n",
       "4    0.859652  "
      ]
     },
     "execution_count": 211,
     "metadata": {},
     "output_type": "execute_result"
    }
   ],
   "source": [
    "df_venues.head()"
   ]
  },
  {
   "cell_type": "code",
   "execution_count": null,
   "id": "38a1acfa-642d-46d2-bbf3-d577a11bffbf",
   "metadata": {},
   "outputs": [],
   "source": []
  }
 ],
 "metadata": {
  "kernelspec": {
   "display_name": "Python 3 (ipykernel)",
   "language": "python",
   "name": "python3"
  },
  "language_info": {
   "codemirror_mode": {
    "name": "ipython",
    "version": 3
   },
   "file_extension": ".py",
   "mimetype": "text/x-python",
   "name": "python",
   "nbconvert_exporter": "python",
   "pygments_lexer": "ipython3",
   "version": "3.9.16"
  }
 },
 "nbformat": 4,
 "nbformat_minor": 5
}
